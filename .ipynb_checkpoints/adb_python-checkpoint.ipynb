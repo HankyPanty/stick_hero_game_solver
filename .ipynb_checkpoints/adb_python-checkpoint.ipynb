{
 "cells": [
  {
   "cell_type": "code",
   "execution_count": 371,
   "metadata": {},
   "outputs": [],
   "source": [
    "import subprocess\n",
    "import matplotlib.image as img\n",
    "import urllib\n",
    "# import numpy\n",
    "# import matplotlib\n",
    "# import scipy\n",
    "# import image\n",
    "# from PIL import Image"
   ]
  },
  {
   "cell_type": "code",
   "execution_count": null,
   "metadata": {},
   "outputs": [],
   "source": [
    "subprocess.call(['adb','devices']);"
   ]
  },
  {
   "cell_type": "code",
   "execution_count": 367,
   "metadata": {},
   "outputs": [],
   "source": [
    "subprocess.call(['adb','shell','screencap','/sdcard/trial.png']);\n",
    "subprocess.call(['adb','pull','/sdcard/trial.png']);"
   ]
  },
  {
   "cell_type": "code",
   "execution_count": 368,
   "metadata": {},
   "outputs": [
    {
     "name": "stdout",
     "output_type": "stream",
     "text": [
      "0.0\n",
      "0.0\n",
      "0.0\n"
     ]
    }
   ],
   "source": [
    "# with open('trial.png', 'r+') as f:\n",
    "#     jpgdata = imread(f);\n",
    "# jpgdata=Image.imread('trial.png');\n",
    "# jpgdata=scipy.misc.imread('trial.png');\n",
    "jpgdata=img.imread('trial.png');\n",
    "x=1712;y=150;\n",
    "p1=jpgdata[x,y,0];\n",
    "p2=jpgdata[x,y,1];\n",
    "p3=jpgdata[x,y,2];\n",
    "print(p1);print(p2);print(p3);"
   ]
  },
  {
   "cell_type": "code",
   "execution_count": 369,
   "metadata": {},
   "outputs": [
    {
     "name": "stdout",
     "output_type": "stream",
     "text": [
      "896\n",
      "934\n",
      "934\n"
     ]
    }
   ],
   "source": [
    "y=200;start=0;mid=0;\n",
    "while True:\n",
    "    p1=jpgdata[x,y,0];\n",
    "    p2=jpgdata[x,y,1];\n",
    "    p3=jpgdata[x,y,2];\n",
    "    if (p1==0 and p2==0 and p3==0):\n",
    "        if start==0:\n",
    "            start=y;\n",
    "        y+=2;\n",
    "    elif start>0:\n",
    "        mid=y;\n",
    "        break;\n",
    "    else:\n",
    "        y+=2;\n",
    "    if y>1000:\n",
    "        mid=1000;\n",
    "        break;\n",
    "print(start);print(mid);print(y);"
   ]
  },
  {
   "cell_type": "code",
   "execution_count": 370,
   "metadata": {},
   "outputs": [
    {
     "name": "stdout",
     "output_type": "stream",
     "text": [
      "aaa\bbb\n",
      "['adb', 'shell', 'input', 'swipe', '500', '500', '500', '500', '1407']\n"
     ]
    }
   ],
   "source": [
    "tt=(mid-152)*1.8;\n",
    "t=int(tt);\n",
    "s='aaa\\bbb';\n",
    "print(s);\n",
    "xyz=['adb','shell','input','swipe','500','500','500','500',str(t)];\n",
    "# xyz+=str(t);\n",
    "print(xyz);\n",
    "subprocess.call(xyz);"
   ]
  },
  {
   "cell_type": "code",
   "execution_count": null,
   "metadata": {},
   "outputs": [],
   "source": []
  }
 ],
 "metadata": {
  "kernelspec": {
   "display_name": "Python 3",
   "language": "python",
   "name": "python3"
  },
  "language_info": {
   "codemirror_mode": {
    "name": "ipython",
    "version": 3
   },
   "file_extension": ".py",
   "mimetype": "text/x-python",
   "name": "python",
   "nbconvert_exporter": "python",
   "pygments_lexer": "ipython3",
   "version": "3.6.5"
  }
 },
 "nbformat": 4,
 "nbformat_minor": 2
}
