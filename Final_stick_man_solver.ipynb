{
 "cells": [
  {
   "cell_type": "code",
   "execution_count": 1,
   "metadata": {
    "scrolled": true
   },
   "outputs": [
    {
     "name": "stdout",
     "output_type": "stream",
     "text": [
      "game      page\n",
      "game      page\n",
      "game      page\n",
      "game      page\n",
      "game      page\n",
      "game      page\n",
      "game      page\n",
      "game      page\n",
      "game      page\n",
      "game      page\n",
      "game      page\n",
      "game      page\n",
      "game      page\n",
      "game      page\n",
      "game      page\n",
      "game      page\n",
      "game      page\n",
      "game      page\n",
      "game      page\n",
      "game      page\n",
      "game      page\n",
      "game      page\n",
      "game      page\n"
     ]
    },
    {
     "ename": "KeyboardInterrupt",
     "evalue": "",
     "output_type": "error",
     "traceback": [
      "\u001b[1;31m---------------------------------------------------------------------------\u001b[0m",
      "\u001b[1;31mKeyboardInterrupt\u001b[0m                         Traceback (most recent call last)",
      "\u001b[1;32m<ipython-input-1-9af604e52991>\u001b[0m in \u001b[0;36m<module>\u001b[1;34m()\u001b[0m\n\u001b[0;32m     47\u001b[0m     \u001b[0mt\u001b[0m\u001b[1;33m=\u001b[0m\u001b[0mint\u001b[0m\u001b[1;33m(\u001b[0m\u001b[0mtt\u001b[0m\u001b[1;33m)\u001b[0m\u001b[1;33m;\u001b[0m\u001b[1;33m\u001b[0m\u001b[0m\n\u001b[0;32m     48\u001b[0m     \u001b[0mxyz\u001b[0m\u001b[1;33m=\u001b[0m\u001b[1;33m[\u001b[0m\u001b[1;34m'adb'\u001b[0m\u001b[1;33m,\u001b[0m\u001b[1;34m'shell'\u001b[0m\u001b[1;33m,\u001b[0m\u001b[1;34m'input'\u001b[0m\u001b[1;33m,\u001b[0m\u001b[1;34m'swipe'\u001b[0m\u001b[1;33m,\u001b[0m\u001b[1;34m'500'\u001b[0m\u001b[1;33m,\u001b[0m\u001b[1;34m'500'\u001b[0m\u001b[1;33m,\u001b[0m\u001b[1;34m'500'\u001b[0m\u001b[1;33m,\u001b[0m\u001b[1;34m'500'\u001b[0m\u001b[1;33m,\u001b[0m\u001b[0mstr\u001b[0m\u001b[1;33m(\u001b[0m\u001b[0mt\u001b[0m\u001b[1;33m)\u001b[0m\u001b[1;33m]\u001b[0m\u001b[1;33m;\u001b[0m\u001b[1;33m\u001b[0m\u001b[0m\n\u001b[1;32m---> 49\u001b[1;33m     \u001b[0msubprocess\u001b[0m\u001b[1;33m.\u001b[0m\u001b[0mcall\u001b[0m\u001b[1;33m(\u001b[0m\u001b[0mxyz\u001b[0m\u001b[1;33m)\u001b[0m\u001b[1;33m;\u001b[0m\u001b[1;33m\u001b[0m\u001b[0m\n\u001b[0m\u001b[0;32m     50\u001b[0m \u001b[1;33m\u001b[0m\u001b[0m\n\u001b[0;32m     51\u001b[0m     \u001b[0mtime\u001b[0m\u001b[1;33m.\u001b[0m\u001b[0msleep\u001b[0m\u001b[1;33m(\u001b[0m\u001b[1;36m3\u001b[0m\u001b[1;33m)\u001b[0m\u001b[1;33m;\u001b[0m\u001b[1;33m\u001b[0m\u001b[0m\n",
      "\u001b[1;32mc:\\users\\prana\\appdata\\local\\programs\\python\\python36-32\\lib\\subprocess.py\u001b[0m in \u001b[0;36mcall\u001b[1;34m(timeout, *popenargs, **kwargs)\u001b[0m\n\u001b[0;32m    267\u001b[0m     \u001b[1;32mwith\u001b[0m \u001b[0mPopen\u001b[0m\u001b[1;33m(\u001b[0m\u001b[1;33m*\u001b[0m\u001b[0mpopenargs\u001b[0m\u001b[1;33m,\u001b[0m \u001b[1;33m**\u001b[0m\u001b[0mkwargs\u001b[0m\u001b[1;33m)\u001b[0m \u001b[1;32mas\u001b[0m \u001b[0mp\u001b[0m\u001b[1;33m:\u001b[0m\u001b[1;33m\u001b[0m\u001b[0m\n\u001b[0;32m    268\u001b[0m         \u001b[1;32mtry\u001b[0m\u001b[1;33m:\u001b[0m\u001b[1;33m\u001b[0m\u001b[0m\n\u001b[1;32m--> 269\u001b[1;33m             \u001b[1;32mreturn\u001b[0m \u001b[0mp\u001b[0m\u001b[1;33m.\u001b[0m\u001b[0mwait\u001b[0m\u001b[1;33m(\u001b[0m\u001b[0mtimeout\u001b[0m\u001b[1;33m=\u001b[0m\u001b[0mtimeout\u001b[0m\u001b[1;33m)\u001b[0m\u001b[1;33m\u001b[0m\u001b[0m\n\u001b[0m\u001b[0;32m    270\u001b[0m         \u001b[1;32mexcept\u001b[0m\u001b[1;33m:\u001b[0m\u001b[1;33m\u001b[0m\u001b[0m\n\u001b[0;32m    271\u001b[0m             \u001b[0mp\u001b[0m\u001b[1;33m.\u001b[0m\u001b[0mkill\u001b[0m\u001b[1;33m(\u001b[0m\u001b[1;33m)\u001b[0m\u001b[1;33m\u001b[0m\u001b[0m\n",
      "\u001b[1;32mc:\\users\\prana\\appdata\\local\\programs\\python\\python36-32\\lib\\subprocess.py\u001b[0m in \u001b[0;36mwait\u001b[1;34m(self, timeout, endtime)\u001b[0m\n\u001b[0;32m   1053\u001b[0m             \u001b[1;32mif\u001b[0m \u001b[0mself\u001b[0m\u001b[1;33m.\u001b[0m\u001b[0mreturncode\u001b[0m \u001b[1;32mis\u001b[0m \u001b[1;32mNone\u001b[0m\u001b[1;33m:\u001b[0m\u001b[1;33m\u001b[0m\u001b[0m\n\u001b[0;32m   1054\u001b[0m                 result = _winapi.WaitForSingleObject(self._handle,\n\u001b[1;32m-> 1055\u001b[1;33m                                                     timeout_millis)\n\u001b[0m\u001b[0;32m   1056\u001b[0m                 \u001b[1;32mif\u001b[0m \u001b[0mresult\u001b[0m \u001b[1;33m==\u001b[0m \u001b[0m_winapi\u001b[0m\u001b[1;33m.\u001b[0m\u001b[0mWAIT_TIMEOUT\u001b[0m\u001b[1;33m:\u001b[0m\u001b[1;33m\u001b[0m\u001b[0m\n\u001b[0;32m   1057\u001b[0m                     \u001b[1;32mraise\u001b[0m \u001b[0mTimeoutExpired\u001b[0m\u001b[1;33m(\u001b[0m\u001b[0mself\u001b[0m\u001b[1;33m.\u001b[0m\u001b[0margs\u001b[0m\u001b[1;33m,\u001b[0m \u001b[0mtimeout\u001b[0m\u001b[1;33m)\u001b[0m\u001b[1;33m\u001b[0m\u001b[0m\n",
      "\u001b[1;31mKeyboardInterrupt\u001b[0m: "
     ]
    }
   ],
   "source": [
    "import subprocess\n",
    "import matplotlib.image as img\n",
    "import urllib\n",
    "import time\n",
    "\n",
    "subprocess.call(['adb','devices']);\n",
    "\n",
    "while True:\n",
    "    subprocess.call(['adb','shell','screencap','/sdcard/trial.png']);\n",
    "    subprocess.call(['adb','pull','/sdcard/trial.png']);\n",
    "    \n",
    "    jpgdata=img.imread('trial.png');\n",
    "# 0.5529412\n",
    "# 0.7647059\n",
    "# 0.38039216\n",
    "    if (jpgdata[1650,510,0]>0.55 and jpgdata[1650,510,1]>0.76 and jpgdata[1650,510,2]>0.38):\n",
    "        subprocess.call(['adb','shell','input','swipe','1650','520','1650','520','300']);\n",
    "        print(\"game over page\");\n",
    "        time.sleep(2);\n",
    "        continue;\n",
    "    elif (jpgdata[1712,150,0]+jpgdata[1712,150,1]+jpgdata[1712,150,2])>0:\n",
    "        subprocess.call(['adb','shell','input','keyevent','4']);\n",
    "        print(\"add       page\");\n",
    "        print(jpgdata[1650,510,0]);print(jpgdata[1650,510,1]);print(jpgdata[1650,510,2]);\n",
    "        time.sleep(2);\n",
    "        continue;\n",
    "    print(\"game      page\");\n",
    "    x=1712;y=200;start=0;mid=0;\n",
    "    while True:\n",
    "        p1=jpgdata[x,y,0];\n",
    "        p2=jpgdata[x,y,1];\n",
    "        p3=jpgdata[x,y,2];\n",
    "        if (p1==0 and p2==0 and p3==0):\n",
    "            if start==0:\n",
    "                start=y;\n",
    "            y+=2;\n",
    "        elif start>0:\n",
    "            mid=y;\n",
    "            break;\n",
    "        else:\n",
    "            y+=2;\n",
    "        if y>1000:\n",
    "            mid=1000;\n",
    "            break;\n",
    "\n",
    "    tt=(mid-152)*1.8;\n",
    "    t=int(tt);\n",
    "    xyz=['adb','shell','input','swipe','500','500','500','500',str(t)];\n",
    "    subprocess.call(xyz);\n",
    "\n",
    "    time.sleep(3);\n"
   ]
  },
  {
   "cell_type": "code",
   "execution_count": null,
   "metadata": {},
   "outputs": [],
   "source": []
  }
 ],
 "metadata": {
  "kernelspec": {
   "display_name": "Python 3",
   "language": "python",
   "name": "python3"
  },
  "language_info": {
   "codemirror_mode": {
    "name": "ipython",
    "version": 3
   },
   "file_extension": ".py",
   "mimetype": "text/x-python",
   "name": "python",
   "nbconvert_exporter": "python",
   "pygments_lexer": "ipython3",
   "version": "3.6.5"
  }
 },
 "nbformat": 4,
 "nbformat_minor": 2
}
